{
  "nbformat": 4,
  "nbformat_minor": 0,
  "metadata": {
    "colab": {
      "provenance": []
    },
    "kernelspec": {
      "name": "python3",
      "display_name": "Python 3"
    },
    "language_info": {
      "name": "python"
    }
  },
  "cells": [
    {
      "cell_type": "code",
      "execution_count": null,
      "metadata": {
        "id": "AC8xq71fnDiz"
      },
      "outputs": [],
      "source": [
        "# Re-import necessary libraries after environment reset\n",
        "import numpy as np\n",
        "import pandas as pd\n",
        "from sklearn.linear_model import SGDClassifier\n",
        "from sklearn.datasets import make_classification\n",
        "from sklearn.metrics import accuracy_score\n",
        "\n",
        "# Generate synthetic classification data\n",
        "X, y = make_classification(n_samples=500, n_features=5, n_informative=4, n_redundant=0,\n",
        "                           random_state=42, n_clusters_per_class=1, flip_y=0.01)\n",
        "\n",
        "# Split into initial training and remaining for SGD updates\n",
        "X_train, y_train = X[:50], y[:50]\n",
        "X_remaining, y_remaining = X[50:], y[50:]\n",
        "\n",
        "# Initialize SGD classifier\n",
        "sgd = SGDClassifier(loss='log_loss', learning_rate='constant', eta0=0.01, random_state=42)\n",
        "sgd.partial_fit(X_train, y_train, classes=np.unique(y))\n",
        "\n",
        "# Track accuracy on all previously seen data\n",
        "seen_X = X_train.copy()\n",
        "seen_y = y_train.copy()\n",
        "acc_history = [accuracy_score(seen_y, sgd.predict(seen_X))]\n",
        "\n",
        "# Iterate over remaining data, update only if accuracy on seen data does not drop\n",
        "for i in range(len(X_remaining)):\n",
        "    x_new = X_remaining[i:i+1]\n",
        "    y_new = y_remaining[i:i+1]\n",
        "\n",
        "    # Save old model state\n",
        "    old_coef = sgd.coef_.copy()\n",
        "    old_intercept = sgd.intercept_.copy()\n",
        "\n",
        "    # Try to update\n",
        "    sgd.partial_fit(x_new, y_new)\n",
        "\n",
        "    # Evaluate on seen data\n",
        "    y_pred = sgd.predict(seen_X)\n",
        "    new_acc = accuracy_score(seen_y, y_pred)\n",
        "\n",
        "    if new_acc >= acc_history[-1]:  # Pareto improvement\n",
        "        seen_X = np.vstack([seen_X, x_new])\n",
        "        seen_y = np.append(seen_y, y_new)\n",
        "        acc_history.append(new_acc)\n",
        "    else:\n",
        "        # Revert update\n",
        "        sgd.coef_ = old_coef\n",
        "        sgd.intercept_ = old_intercept\n",
        "        acc_history.append(acc_history[-1])  # accuracy unchanged\n",
        "\n",
        "pd.DataFrame({\n",
        "    \"Step\": range(len(acc_history)),\n",
        "    \"Accuracy\": acc_history\n",
        "})"
      ]
    },
    {
      "cell_type": "code",
      "source": [],
      "metadata": {
        "id": "BDxiiW2vnJry"
      },
      "execution_count": null,
      "outputs": []
    }
  ]
}